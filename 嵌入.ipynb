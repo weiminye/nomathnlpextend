{
  "nbformat": 4,
  "nbformat_minor": 0,
  "metadata": {
    "colab": {
      "provenance": [],
      "authorship_tag": "ABX9TyMcRmhU79c3phP7hwjFTBE/",
      "include_colab_link": true
    },
    "kernelspec": {
      "name": "python3",
      "display_name": "Python 3"
    },
    "language_info": {
      "name": "python"
    }
  },
  "cells": [
    {
      "cell_type": "markdown",
      "metadata": {
        "id": "view-in-github",
        "colab_type": "text"
      },
      "source": [
        "<a href=\"https://colab.research.google.com/github/weiminye/nomathnlpextend/blob/main/%E5%B5%8C%E5%85%A5.ipynb\" target=\"_parent\"><img src=\"https://colab.research.google.com/assets/colab-badge.svg\" alt=\"Open In Colab\"/></a>"
      ]
    },
    {
      "cell_type": "markdown",
      "source": [
        "# 公用函数"
      ],
      "metadata": {
        "id": "UuLdePDITdLp"
      }
    },
    {
      "cell_type": "code",
      "source": [
        "%pip install openai\n",
        "%pip install numpy"
      ],
      "metadata": {
        "id": "wTp0sYuMXLhS"
      },
      "execution_count": null,
      "outputs": []
    },
    {
      "cell_type": "code",
      "source": [
        "import openai, numpy as np\n",
        "import os"
      ],
      "metadata": {
        "id": "GFYDxjjzXC5S"
      },
      "execution_count": 52,
      "outputs": []
    },
    {
      "cell_type": "code",
      "source": [
        "openai.api_key = input(\"请输入您的OpenAI API Key：\")"
      ],
      "metadata": {
        "id": "YB00ioSaUExR"
      },
      "execution_count": null,
      "outputs": []
    },
    {
      "cell_type": "code",
      "source": [
        "# 一个封装 OpenAI 接口的函数，参数为 Prompt，返回对应结果\n",
        "def get_completion(prompt, model=\"gpt-3.5-turbo\"):\n",
        "    '''\n",
        "    prompt: 对应的提示\n",
        "    model: 调用的模型，默认为 gpt-3.5-turbo(ChatGPT)，有内测资格的用户可以选择 gpt-4\n",
        "    '''\n",
        "    messages = [{\"role\": \"user\", \"content\": prompt}]\n",
        "    response = openai.ChatCompletion.create(\n",
        "        model=model,\n",
        "        messages=messages,\n",
        "        temperature=0, # 模型输出的温度系数，控制输出的随机程度\n",
        "    )\n",
        "    # 调用 OpenAI 的 ChatCompletion 接口\n",
        "    return response.choices[0].message[\"content\"]\n"
      ],
      "metadata": {
        "id": "RuuxpHIyUBIC"
      },
      "execution_count": 4,
      "outputs": []
    },
    {
      "cell_type": "markdown",
      "source": [
        "## 通过ChatGPT识别两个东西是否属于同一类"
      ],
      "metadata": {
        "id": "BhY_rejJU5a5"
      }
    },
    {
      "cell_type": "code",
      "source": [
        "def 通过ChatGPT识别两个东西是否属于同一类(单词1,单词2):\n",
        "  prompt = f\"\"\"\n",
        "  <{单词1}>和<{单词2}>都是同属一个大类吗？\n",
        "  \n",
        "  只返回布尔值，不需要补充任何额外的信息。是则返回True，不是则返回False。\n",
        "  \"\"\"\n",
        "  response = get_completion(prompt)\n",
        "  return response"
      ],
      "metadata": {
        "id": "HHldXN4HU0fJ"
      },
      "execution_count": 45,
      "outputs": []
    },
    {
      "cell_type": "markdown",
      "source": [
        "## 通过ada相似度引擎比较两个单词的相似度"
      ],
      "metadata": {
        "id": "1Meq3Hqvl9Vp"
      }
    },
    {
      "cell_type": "code",
      "source": [
        "def 通过ada相似度引擎比较两个单词的相似度(单词1,单词2):\n",
        "    # 获取“狗”和“猫”的嵌入向量\n",
        "    resp = openai.Embedding.create(\n",
        "        input=[单词1, 单词2],\n",
        "        engine=\"text-similarity-ada-001\")\n",
        "\n",
        "    embedding_a = resp['data'][0]['embedding']\n",
        "    embedding_b = resp['data'][1]['embedding']\n",
        "\n",
        "    similarity_score = np.dot(embedding_a, embedding_b)\n",
        "    return similarity_score"
      ],
      "metadata": {
        "id": "f_EtNc6EmFsJ"
      },
      "execution_count": 22,
      "outputs": []
    },
    {
      "cell_type": "markdown",
      "source": [
        "# 实例"
      ],
      "metadata": {
        "id": "0JcRtSsXThPx"
      }
    },
    {
      "cell_type": "code",
      "source": [
        "print(通过ChatGPT识别两个东西是否属于同一类(\"狗\", \"猫\"))"
      ],
      "metadata": {
        "id": "AGGT0IDQTTBp",
        "colab": {
          "base_uri": "https://localhost:8080/"
        },
        "outputId": "64a2faf0-6b17-440b-8621-3ae0c9782b02"
      },
      "execution_count": 46,
      "outputs": [
        {
          "output_type": "stream",
          "name": "stdout",
          "text": [
            "True\n"
          ]
        }
      ]
    },
    {
      "cell_type": "code",
      "source": [
        "print(通过ChatGPT识别两个东西是否属于同一类(\"狗\", \"月饼\"))"
      ],
      "metadata": {
        "colab": {
          "base_uri": "https://localhost:8080/"
        },
        "id": "TCdPi0HCmdHh",
        "outputId": "91c0c4a8-e08b-40c3-badb-f38e94fc608e"
      },
      "execution_count": 47,
      "outputs": [
        {
          "output_type": "stream",
          "name": "stdout",
          "text": [
            "False\n"
          ]
        }
      ]
    },
    {
      "cell_type": "code",
      "source": [
        "print(通过ChatGPT识别两个东西是否属于同一类(\"狗\", \"热狗\"))"
      ],
      "metadata": {
        "colab": {
          "base_uri": "https://localhost:8080/"
        },
        "id": "ExSCcAqUmesp",
        "outputId": "1fa5857d-177b-4cf0-a663-968f6ebff26d"
      },
      "execution_count": 48,
      "outputs": [
        {
          "output_type": "stream",
          "name": "stdout",
          "text": [
            "False\n"
          ]
        }
      ]
    },
    {
      "cell_type": "code",
      "source": [
        "print(通过ChatGPT识别两个东西是否属于同一类(\"老婆\", \"老婆饼\"))"
      ],
      "metadata": {
        "colab": {
          "base_uri": "https://localhost:8080/"
        },
        "id": "HPiW7RLEme5R",
        "outputId": "58df7989-3455-48ae-f7a8-1e1194fe1b67"
      },
      "execution_count": 49,
      "outputs": [
        {
          "output_type": "stream",
          "name": "stdout",
          "text": [
            "False\n"
          ]
        }
      ]
    },
    {
      "cell_type": "code",
      "source": [
        "通过ada相似度引擎比较两个单词的相似度(\"狗\", \"猫\")"
      ],
      "metadata": {
        "colab": {
          "base_uri": "https://localhost:8080/"
        },
        "id": "6UhLgSesoa1Z",
        "outputId": "4a5d97e6-8f67-4c77-9011-4d5044b3e4d4"
      },
      "execution_count": 53,
      "outputs": [
        {
          "output_type": "execute_result",
          "data": {
            "text/plain": [
              "0.9198559458650382"
            ]
          },
          "metadata": {},
          "execution_count": 53
        }
      ]
    },
    {
      "cell_type": "code",
      "source": [
        "通过ada相似度引擎比较两个单词的相似度(\"狗\", \"月饼\")"
      ],
      "metadata": {
        "colab": {
          "base_uri": "https://localhost:8080/"
        },
        "id": "ROfrAU0codHJ",
        "outputId": "600d0c28-84aa-4669-81c3-3610891ab43a"
      },
      "execution_count": 54,
      "outputs": [
        {
          "output_type": "execute_result",
          "data": {
            "text/plain": [
              "0.8351218241711726"
            ]
          },
          "metadata": {},
          "execution_count": 54
        }
      ]
    },
    {
      "cell_type": "code",
      "source": [
        "通过ada相似度引擎比较两个单词的相似度(\"狗\", \"热狗\")"
      ],
      "metadata": {
        "colab": {
          "base_uri": "https://localhost:8080/"
        },
        "id": "8XYGpYJ_oeuh",
        "outputId": "68267653-362b-4731-fbec-0788d9b62a91"
      },
      "execution_count": 55,
      "outputs": [
        {
          "output_type": "execute_result",
          "data": {
            "text/plain": [
              "0.9480256819521349"
            ]
          },
          "metadata": {},
          "execution_count": 55
        }
      ]
    },
    {
      "cell_type": "code",
      "source": [
        "通过ada相似度引擎比较两个单词的相似度(\"老婆\", \"老婆饼\")"
      ],
      "metadata": {
        "colab": {
          "base_uri": "https://localhost:8080/"
        },
        "id": "vsvV16ZPogDB",
        "outputId": "12cf24a0-28ad-46c7-fda2-016f56d9ea4e"
      },
      "execution_count": 56,
      "outputs": [
        {
          "output_type": "execute_result",
          "data": {
            "text/plain": [
              "0.96367913297087"
            ]
          },
          "metadata": {},
          "execution_count": 56
        }
      ]
    }
  ]
}