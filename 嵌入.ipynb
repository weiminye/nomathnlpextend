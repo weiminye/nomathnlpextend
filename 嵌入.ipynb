{
 "cells": [
  {
   "attachments": {},
   "cell_type": "markdown",
   "metadata": {},
   "source": [
    "准备工作"
   ]
  },
  {
   "cell_type": "code",
   "execution_count": 8,
   "metadata": {},
   "outputs": [],
   "source": [
    "import openai, numpy as np\n",
    "import os\n",
    "\n",
    "# 读取环境变量中的 OpenAI API 密钥\n",
    "openai_api_key = os.getenv(\"OPENAI_API_KEY\")\n",
    "\n",
    "def 通过ada相似度引擎比较两个单词的相似度(单词1,单词2):\n",
    "    # 获取“狗”和“猫”的嵌入向量\n",
    "    resp = openai.Embedding.create(\n",
    "        input=[单词1, 单词2],\n",
    "        engine=\"text-similarity-ada-001\")\n",
    "\n",
    "    embedding_a = resp['data'][0]['embedding']\n",
    "    embedding_b = resp['data'][1]['embedding']\n",
    "\n",
    "    similarity_score = np.dot(embedding_a, embedding_b)\n",
    "    return similarity_score"
   ]
  },
  {
   "attachments": {},
   "cell_type": "markdown",
   "metadata": {},
   "source": [
    "# 通过ada相似度引擎比较两个单词的相似度"
   ]
  },
  {
   "attachments": {},
   "cell_type": "markdown",
   "metadata": {},
   "source": [
    "比较“狗”和“猫”"
   ]
  },
  {
   "cell_type": "code",
   "execution_count": 9,
   "metadata": {},
   "outputs": [
    {
     "data": {
      "text/plain": [
       "0.9198559458650382"
      ]
     },
     "execution_count": 9,
     "metadata": {},
     "output_type": "execute_result"
    }
   ],
   "source": [
    "通过ada相似度引擎比较两个单词的相似度(\"狗\", \"猫\")"
   ]
  },
  {
   "attachments": {},
   "cell_type": "markdown",
   "metadata": {},
   "source": [
    "比较“狗”和“月饼”"
   ]
  },
  {
   "cell_type": "code",
   "execution_count": 10,
   "metadata": {},
   "outputs": [
    {
     "data": {
      "text/plain": [
       "0.8351218241711726"
      ]
     },
     "execution_count": 10,
     "metadata": {},
     "output_type": "execute_result"
    }
   ],
   "source": [
    "通过ada相似度引擎比较两个单词的相似度(\"狗\", \"月饼\")"
   ]
  },
  {
   "attachments": {},
   "cell_type": "markdown",
   "metadata": {},
   "source": [
    "比较“狗”和“热狗”"
   ]
  },
  {
   "cell_type": "code",
   "execution_count": 11,
   "metadata": {},
   "outputs": [
    {
     "data": {
      "text/plain": [
       "0.9480256819521349"
      ]
     },
     "execution_count": 11,
     "metadata": {},
     "output_type": "execute_result"
    }
   ],
   "source": [
    "通过ada相似度引擎比较两个单词的相似度(\"狗\", \"热狗\")"
   ]
  },
  {
   "attachments": {},
   "cell_type": "markdown",
   "metadata": {},
   "source": [
    "比较“老婆”和“老婆饼”"
   ]
  },
  {
   "cell_type": "code",
   "execution_count": 12,
   "metadata": {},
   "outputs": [
    {
     "data": {
      "text/plain": [
       "0.96367913297087"
      ]
     },
     "execution_count": 12,
     "metadata": {},
     "output_type": "execute_result"
    }
   ],
   "source": [
    "通过ada相似度引擎比较两个单词的相似度(\"老婆\", \"老婆饼\")"
   ]
  },
  {
   "attachments": {},
   "cell_type": "markdown",
   "metadata": {},
   "source": [
    "# 通过提示工程比较两个单词的相似度"
   ]
  },
  {
   "cell_type": "code",
   "execution_count": 24,
   "metadata": {},
   "outputs": [],
   "source": [
    "def 通过提示工程比较两个单词的相似度(单词1,单词2):\n",
    "    response = openai.Completion.create(\n",
    "    model='text-davinci-003',\n",
    "    prompt=f\"“{单词1}”和“{单词2}”都是同属一个大类吗？返回True或False\",\n",
    "    max_tokens=1500,\n",
    "    )\n",
    "\n",
    "    return response.choices[0].text.strip()"
   ]
  },
  {
   "attachments": {},
   "cell_type": "markdown",
   "metadata": {},
   "source": [
    "比较“狗”和“猫”"
   ]
  },
  {
   "cell_type": "code",
   "execution_count": 25,
   "metadata": {},
   "outputs": [
    {
     "data": {
      "text/plain": [
       "'True'"
      ]
     },
     "execution_count": 25,
     "metadata": {},
     "output_type": "execute_result"
    }
   ],
   "source": [
    "通过提示工程比较两个单词的相似度(\"狗\", \"猫\")"
   ]
  },
  {
   "cell_type": "markdown",
   "metadata": {},
   "source": [
    "比较“狗”和“月饼”"
   ]
  },
  {
   "cell_type": "code",
   "execution_count": 26,
   "metadata": {},
   "outputs": [
    {
     "data": {
      "text/plain": [
       "'False'"
      ]
     },
     "execution_count": 26,
     "metadata": {},
     "output_type": "execute_result"
    }
   ],
   "source": [
    "通过提示工程比较两个单词的相似度(\"狗\", \"月饼\")"
   ]
  },
  {
   "cell_type": "markdown",
   "metadata": {},
   "source": [
    "比较“狗”和“热狗”"
   ]
  },
  {
   "cell_type": "code",
   "execution_count": 27,
   "metadata": {},
   "outputs": [
    {
     "data": {
      "text/plain": [
       "'True'"
      ]
     },
     "execution_count": 27,
     "metadata": {},
     "output_type": "execute_result"
    }
   ],
   "source": [
    "通过提示工程比较两个单词的相似度(\"狗\", \"热狗\")"
   ]
  },
  {
   "cell_type": "markdown",
   "metadata": {},
   "source": [
    "比较“老婆”和“老婆饼”"
   ]
  },
  {
   "cell_type": "code",
   "execution_count": 28,
   "metadata": {},
   "outputs": [
    {
     "data": {
      "text/plain": [
       "'False'"
      ]
     },
     "execution_count": 28,
     "metadata": {},
     "output_type": "execute_result"
    }
   ],
   "source": [
    "通过提示工程比较两个单词的相似度(\"老婆\", \"老婆饼\")"
   ]
  },
  {
   "attachments": {},
   "cell_type": "markdown",
   "metadata": {},
   "source": [
    "# 通过提示工程识别两个东西是否属于同一类"
   ]
  },
  {
   "cell_type": "code",
   "execution_count": 30,
   "metadata": {},
   "outputs": [],
   "source": [
    "def 通过提示工程识别两个东西是否属于同一类(单词1,单词2,类别):\n",
    "    response = openai.Completion.create(\n",
    "    model='text-davinci-003',\n",
    "    prompt=f\"“{单词1}”和“{单词2}”都是同属{类别}吗？返回True或False\",\n",
    "    max_tokens=1500,\n",
    "    )\n",
    "\n",
    "    return response.choices[0].text.strip()"
   ]
  },
  {
   "cell_type": "code",
   "execution_count": 32,
   "metadata": {},
   "outputs": [
    {
     "data": {
      "text/plain": [
       "'False'"
      ]
     },
     "execution_count": 32,
     "metadata": {},
     "output_type": "execute_result"
    }
   ],
   "source": [
    "通过提示工程识别两个东西是否属于同一类(\"狗\", \"热狗\",\"食物\")"
   ]
  },
  {
   "cell_type": "markdown",
   "metadata": {},
   "source": []
  }
 ],
 "metadata": {
  "kernelspec": {
   "display_name": "Python 3",
   "language": "python",
   "name": "python3"
  },
  "language_info": {
   "codemirror_mode": {
    "name": "ipython",
    "version": 3
   },
   "file_extension": ".py",
   "mimetype": "text/x-python",
   "name": "python",
   "nbconvert_exporter": "python",
   "pygments_lexer": "ipython3",
   "version": "3.8.0"
  },
  "orig_nbformat": 4,
  "vscode": {
   "interpreter": {
    "hash": "570feb405e2e27c949193ac68f46852414290d515b0ba6e5d90d076ed2284471"
   }
  }
 },
 "nbformat": 4,
 "nbformat_minor": 2
}
