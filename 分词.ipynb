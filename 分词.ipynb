{
  "nbformat": 4,
  "nbformat_minor": 0,
  "metadata": {
    "colab": {
      "provenance": [],
      "authorship_tag": "ABX9TyO/QSaFPdpoHrEojoez3nyi",
      "include_colab_link": true
    },
    "kernelspec": {
      "name": "python3",
      "display_name": "Python 3"
    },
    "language_info": {
      "name": "python"
    }
  },
  "cells": [
    {
      "cell_type": "markdown",
      "metadata": {
        "id": "view-in-github",
        "colab_type": "text"
      },
      "source": [
        "<a href=\"https://colab.research.google.com/github/weiminye/nomathnlpextend/blob/main/%E5%88%86%E8%AF%8D.ipynb\" target=\"_parent\"><img src=\"https://colab.research.google.com/assets/colab-badge.svg\" alt=\"Open In Colab\"/></a>"
      ]
    },
    {
      "cell_type": "markdown",
      "source": [
        "# 公用函数"
      ],
      "metadata": {
        "id": "UuLdePDITdLp"
      }
    },
    {
      "cell_type": "code",
      "source": [
        "%pip install openai"
      ],
      "metadata": {
        "id": "wTp0sYuMXLhS"
      },
      "execution_count": null,
      "outputs": []
    },
    {
      "cell_type": "code",
      "source": [
        "import openai\n",
        "import os"
      ],
      "metadata": {
        "id": "GFYDxjjzXC5S"
      },
      "execution_count": 2,
      "outputs": []
    },
    {
      "cell_type": "code",
      "source": [
        "openai.api_key = input(\"请输入您的OpenAI API Key：\")"
      ],
      "metadata": {
        "id": "YB00ioSaUExR"
      },
      "execution_count": null,
      "outputs": []
    },
    {
      "cell_type": "code",
      "source": [
        "# 一个封装 OpenAI 接口的函数，参数为 Prompt，返回对应结果\n",
        "def get_completion(prompt, model=\"gpt-3.5-turbo\"):\n",
        "    '''\n",
        "    prompt: 对应的提示\n",
        "    model: 调用的模型，默认为 gpt-3.5-turbo(ChatGPT)，有内测资格的用户可以选择 gpt-4\n",
        "    '''\n",
        "    messages = [{\"role\": \"user\", \"content\": prompt}]\n",
        "    response = openai.ChatCompletion.create(\n",
        "        model=model,\n",
        "        messages=messages,\n",
        "        temperature=0, # 模型输出的温度系数，控制输出的随机程度\n",
        "    )\n",
        "    # 调用 OpenAI 的 ChatCompletion 接口\n",
        "    return response.choices[0].message[\"content\"]\n"
      ],
      "metadata": {
        "id": "RuuxpHIyUBIC"
      },
      "execution_count": 4,
      "outputs": []
    },
    {
      "cell_type": "markdown",
      "source": [
        "## 对输入文本进行分词"
      ],
      "metadata": {
        "id": "BhY_rejJU5a5"
      }
    },
    {
      "cell_type": "code",
      "source": [
        "def 对输入文本进行分词(输入文本):\n",
        "  prompt = f\"\"\"\n",
        "  请对以下用三个反引号分隔的输入文本进行分词。每个词之间用/分隔。\n",
        "\n",
        "  输入文本: '''{输入文本}'''\n",
        "  \"\"\"\n",
        "  response = get_completion(prompt)\n",
        "  return response"
      ],
      "metadata": {
        "id": "HHldXN4HU0fJ"
      },
      "execution_count": 5,
      "outputs": []
    },
    {
      "cell_type": "markdown",
      "source": [
        "# 实例"
      ],
      "metadata": {
        "id": "0JcRtSsXThPx"
      }
    },
    {
      "cell_type": "code",
      "source": [
        "输入文本1=\"南京市长江大桥建于19xx年。\""
      ],
      "metadata": {
        "id": "AGGT0IDQTTBp"
      },
      "execution_count": 6,
      "outputs": []
    },
    {
      "cell_type": "code",
      "source": [
        "print(对输入文本进行分词(输入文本1))"
      ],
      "metadata": {
        "colab": {
          "base_uri": "https://localhost:8080/"
        },
        "id": "HY9hsBGKW7x6",
        "outputId": "23503c67-e13f-499d-9305-3033dd415799"
      },
      "execution_count": 7,
      "outputs": [
        {
          "output_type": "stream",
          "name": "stdout",
          "text": [
            "南京市/长江大桥/建于/19xx年/。\n"
          ]
        }
      ]
    },
    {
      "cell_type": "code",
      "source": [
        "输入文本2=\"南京市长江大桥于昨日上任。\""
      ],
      "metadata": {
        "id": "VR6Zg7eSpXd6"
      },
      "execution_count": 8,
      "outputs": []
    },
    {
      "cell_type": "code",
      "source": [
        "print(对输入文本进行分词(输入文本2))"
      ],
      "metadata": {
        "colab": {
          "base_uri": "https://localhost:8080/"
        },
        "id": "vjmMF6u9pc1B",
        "outputId": "2fa82d36-6bc0-4821-a81d-3c7024a83194"
      },
      "execution_count": 9,
      "outputs": [
        {
          "output_type": "stream",
          "name": "stdout",
          "text": [
            "南京市/长江大桥/于/昨日/上任/。\n"
          ]
        }
      ]
    }
  ]
}