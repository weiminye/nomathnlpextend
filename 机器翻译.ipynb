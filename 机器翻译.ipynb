{
  "nbformat": 4,
  "nbformat_minor": 0,
  "metadata": {
    "colab": {
      "provenance": [],
      "authorship_tag": "ABX9TyPawwagMV6X6uagCcfCbUTd",
      "include_colab_link": true
    },
    "kernelspec": {
      "name": "python3",
      "display_name": "Python 3"
    },
    "language_info": {
      "name": "python"
    }
  },
  "cells": [
    {
      "cell_type": "markdown",
      "metadata": {
        "id": "view-in-github",
        "colab_type": "text"
      },
      "source": [
        "<a href=\"https://colab.research.google.com/github/weiminye/nomathnlpextend/blob/main/%E6%9C%BA%E5%99%A8%E7%BF%BB%E8%AF%91.ipynb\" target=\"_parent\"><img src=\"https://colab.research.google.com/assets/colab-badge.svg\" alt=\"Open In Colab\"/></a>"
      ]
    },
    {
      "cell_type": "markdown",
      "source": [
        "# 公用函数"
      ],
      "metadata": {
        "id": "UuLdePDITdLp"
      }
    },
    {
      "cell_type": "code",
      "source": [
        "%pip install openai"
      ],
      "metadata": {
        "id": "wTp0sYuMXLhS"
      },
      "execution_count": null,
      "outputs": []
    },
    {
      "cell_type": "code",
      "source": [
        "import openai\n",
        "import os"
      ],
      "metadata": {
        "id": "GFYDxjjzXC5S"
      },
      "execution_count": 2,
      "outputs": []
    },
    {
      "cell_type": "code",
      "source": [
        "openai.api_key = input(\"请输入您的OpenAI API Key：\")"
      ],
      "metadata": {
        "id": "YB00ioSaUExR"
      },
      "execution_count": null,
      "outputs": []
    },
    {
      "cell_type": "code",
      "source": [
        "# 一个封装 OpenAI 接口的函数，参数为 Prompt，返回对应结果\n",
        "def get_completion(prompt, model=\"gpt-3.5-turbo\"):\n",
        "    '''\n",
        "    prompt: 对应的提示\n",
        "    model: 调用的模型，默认为 gpt-3.5-turbo(ChatGPT)，有内测资格的用户可以选择 gpt-4\n",
        "    '''\n",
        "    messages = [{\"role\": \"user\", \"content\": prompt}]\n",
        "    response = openai.ChatCompletion.create(\n",
        "        model=model,\n",
        "        messages=messages,\n",
        "        temperature=0, # 模型输出的温度系数，控制输出的随机程度\n",
        "    )\n",
        "    # 调用 OpenAI 的 ChatCompletion 接口\n",
        "    return response.choices[0].message[\"content\"]\n"
      ],
      "metadata": {
        "id": "RuuxpHIyUBIC"
      },
      "execution_count": 4,
      "outputs": []
    },
    {
      "cell_type": "code",
      "source": [
        "def 将输入文本翻译为英文(输入文本):\n",
        "  prompt = f\"\"\"\n",
        "  请将以下用三个反引号分隔的输入文本翻译为英文。\n",
        "\n",
        "  输入文本: '''{输入文本}'''\n",
        "  \"\"\"\n",
        "  response = get_completion(prompt)\n",
        "  return response"
      ],
      "metadata": {
        "id": "HHldXN4HU0fJ"
      },
      "execution_count": 13,
      "outputs": []
    },
    {
      "cell_type": "code",
      "source": [
        "def 将输入文本转换为商务文本(输入文本):\n",
        "  prompt = f\"\"\"\n",
        "  请将以下用三个反引号分隔的输入文本转换为商务文本。\n",
        "\n",
        "  输入文本: '''{输入文本}'''\n",
        "  \"\"\"\n",
        "  response = get_completion(prompt)\n",
        "  return response"
      ],
      "metadata": {
        "id": "qa-ITVBNdiop"
      },
      "execution_count": 22,
      "outputs": []
    },
    {
      "cell_type": "markdown",
      "source": [
        "# 实例"
      ],
      "metadata": {
        "id": "0JcRtSsXThPx"
      }
    },
    {
      "cell_type": "code",
      "source": [
        "输入文本1=\"我相信这个idea肯定能行。\""
      ],
      "metadata": {
        "id": "AGGT0IDQTTBp"
      },
      "execution_count": 14,
      "outputs": []
    },
    {
      "cell_type": "code",
      "source": [
        "print(将输入文本翻译为英文(输入文本1))"
      ],
      "metadata": {
        "colab": {
          "base_uri": "https://localhost:8080/"
        },
        "id": "HY9hsBGKW7x6",
        "outputId": "d0e7be76-4b17-417b-a802-bf5e2edbbceb"
      },
      "execution_count": 15,
      "outputs": [
        {
          "output_type": "stream",
          "name": "stdout",
          "text": [
            "Translation: '''I believe this idea will definitely work.'''\n"
          ]
        }
      ]
    },
    {
      "cell_type": "code",
      "source": [
        "print(将输入文本转换为商务文本(输入文本1))"
      ],
      "metadata": {
        "colab": {
          "base_uri": "https://localhost:8080/"
        },
        "id": "eh_AOpHXdqcJ",
        "outputId": "a92b6c8e-2a17-4539-ac15-bcb811d71aed"
      },
      "execution_count": 23,
      "outputs": [
        {
          "output_type": "stream",
          "name": "stdout",
          "text": [
            "商务文本: 我相信这个想法一定会成功。\n"
          ]
        }
      ]
    },
    {
      "cell_type": "code",
      "source": [
        "输入文本2=\"就让我们push一下这个项目吧。\""
      ],
      "metadata": {
        "id": "RKOEkWMHTJ-J"
      },
      "execution_count": 16,
      "outputs": []
    },
    {
      "cell_type": "code",
      "source": [
        "print(将输入文本翻译为英文(输入文本2))"
      ],
      "metadata": {
        "colab": {
          "base_uri": "https://localhost:8080/"
        },
        "id": "KBzfGG1yUSCh",
        "outputId": "d208013c-34e4-4a19-aaab-6a48a40702d0"
      },
      "execution_count": 17,
      "outputs": [
        {
          "output_type": "stream",
          "name": "stdout",
          "text": [
            "Translation: '''Let's push this project.'''\n"
          ]
        }
      ]
    },
    {
      "cell_type": "code",
      "source": [
        "print(将输入文本转换为商务文本(输入文本2))"
      ],
      "metadata": {
        "colab": {
          "base_uri": "https://localhost:8080/"
        },
        "id": "pcJyBKOudwYR",
        "outputId": "9bd21c1d-4c09-4b01-f99e-e5e081cfae44"
      },
      "execution_count": 24,
      "outputs": [
        {
          "output_type": "stream",
          "name": "stdout",
          "text": [
            "商务文本: 请推进这个项目。\n"
          ]
        }
      ]
    },
    {
      "cell_type": "code",
      "source": [
        "输入文本3=\"我们的公司要搞一个大promotion。\""
      ],
      "metadata": {
        "id": "Y0E0hd9RcoFB"
      },
      "execution_count": 20,
      "outputs": []
    },
    {
      "cell_type": "code",
      "source": [
        "print(将输入文本翻译为英文(输入文本3))"
      ],
      "metadata": {
        "colab": {
          "base_uri": "https://localhost:8080/"
        },
        "id": "IN-Kj_-9crq5",
        "outputId": "a4b4238f-4d9e-4836-81d6-6387d8e59074"
      },
      "execution_count": 21,
      "outputs": [
        {
          "output_type": "stream",
          "name": "stdout",
          "text": [
            "Translation: '''Our company is planning a big promotion.'''\n"
          ]
        }
      ]
    },
    {
      "cell_type": "code",
      "source": [
        "print(将输入文本转换为商务文本(输入文本3))"
      ],
      "metadata": {
        "colab": {
          "base_uri": "https://localhost:8080/"
        },
        "id": "CH0xuMdXdyTR",
        "outputId": "8cd5f03c-4ad9-450f-de24-fda58c611643"
      },
      "execution_count": 25,
      "outputs": [
        {
          "output_type": "stream",
          "name": "stdout",
          "text": [
            "我们的公司计划举办一次大型促销活动。\n"
          ]
        }
      ]
    }
  ]
}