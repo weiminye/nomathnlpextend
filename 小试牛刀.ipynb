{
  "nbformat": 4,
  "nbformat_minor": 0,
  "metadata": {
    "colab": {
      "provenance": [],
      "authorship_tag": "ABX9TyP2pIXk0U4DgUWjMUObNjb7",
      "include_colab_link": true
    },
    "kernelspec": {
      "name": "python3",
      "display_name": "Python 3"
    },
    "language_info": {
      "name": "python"
    }
  },
  "cells": [
    {
      "cell_type": "markdown",
      "metadata": {
        "id": "view-in-github",
        "colab_type": "text"
      },
      "source": [
        "<a href=\"https://colab.research.google.com/github/weiminye/nomathnlpextend/blob/main/%E5%B0%8F%E8%AF%95%E7%89%9B%E5%88%80.ipynb\" target=\"_parent\"><img src=\"https://colab.research.google.com/assets/colab-badge.svg\" alt=\"Open In Colab\"/></a>"
      ]
    },
    {
      "cell_type": "markdown",
      "source": [
        "# 公用函数"
      ],
      "metadata": {
        "id": "UuLdePDITdLp"
      }
    },
    {
      "cell_type": "code",
      "source": [
        "%pip install openai"
      ],
      "metadata": {
        "colab": {
          "base_uri": "https://localhost:8080/"
        },
        "id": "wTp0sYuMXLhS",
        "outputId": "db96362d-49e6-4aca-d8cb-bca6c0040af2"
      },
           "execution_count": null,
      "outputs": []
    },
    {
      "cell_type": "code",
      "source": [
        "import openai\n",
        "import os"
      ],
      "metadata": {
        "id": "GFYDxjjzXC5S"
      },
      "execution_count": 5,
      "outputs": []
    },
    {
      "cell_type": "code",
      "source": [
        "openai.api_key = input(\"请输入您的OpenAI API Key：\")"
      ],
      "metadata": {
        "id": "YB00ioSaUExR"
      },
      "execution_count": null,
      "outputs": []
    },
    {
      "cell_type": "code",
      "source": [
        "# 一个封装 OpenAI 接口的函数，参数为 Prompt，返回对应结果\n",
        "def get_completion(prompt, model=\"gpt-3.5-turbo\"):\n",
        "    '''\n",
        "    prompt: 对应的提示\n",
        "    model: 调用的模型，默认为 gpt-3.5-turbo(ChatGPT)，有内测资格的用户可以选择 gpt-4\n",
        "    '''\n",
        "    messages = [{\"role\": \"user\", \"content\": prompt}]\n",
        "    response = openai.ChatCompletion.create(\n",
        "        model=model,\n",
        "        messages=messages,\n",
        "        temperature=0, # 模型输出的温度系数，控制输出的随机程度\n",
        "    )\n",
        "    # 调用 OpenAI 的 ChatCompletion 接口\n",
        "    return response.choices[0].message[\"content\"]\n"
      ],
      "metadata": {
        "id": "RuuxpHIyUBIC"
      },
      "execution_count": 7,
      "outputs": []
    },
    {
      "cell_type": "markdown",
      "source": [
        "## 判断评论是正面还是负面函数"
      ],
      "metadata": {
        "id": "BhY_rejJU5a5"
      }
    },
    {
      "cell_type": "code",
      "source": [
        "def 判断评论是正面还是负面(评论文本):\n",
        "  prompt = f\"\"\"\n",
        "  以下用三个反引号分隔的产品评论的情感是什么？\n",
        "\n",
        "  返回布尔值。True表示正面，False表示负面\n",
        "\n",
        "  评论文本: '''{评论文本}'''\n",
        "  \"\"\"\n",
        "  response = get_completion(prompt)\n",
        "  return response"
      ],
      "metadata": {
        "id": "HHldXN4HU0fJ"
      },
      "execution_count": 8,
      "outputs": []
    },
    {
      "cell_type": "markdown",
      "source": [
        "# 实例"
      ],
      "metadata": {
        "id": "0JcRtSsXThPx"
      }
    },
    {
      "cell_type": "code",
      "source": [
        "商品评论1=\"想死这个产品了，终于到货了，乐坏我了。\""
      ],
      "metadata": {
        "id": "AGGT0IDQTTBp"
      },
      "execution_count": 15,
      "outputs": []
    },
    {
      "cell_type": "code",
      "source": [
        "print(判断评论是正面还是负面(商品评论1))"
      ],
      "metadata": {
        "colab": {
          "base_uri": "https://localhost:8080/"
        },
        "id": "HY9hsBGKW7x6",
        "outputId": "d993dc68-eff5-4b83-fdf4-6fc4fb4d7c98"
      },
      "execution_count": 16,
      "outputs": [
        {
          "output_type": "stream",
          "name": "stdout",
          "text": [
            "True\n"
          ]
        }
      ]
    },
    {
      "cell_type": "code",
      "source": [
        "商品评论2=\"这个产品居然是坏的，愁死我了。\""
      ],
      "metadata": {
        "id": "RKOEkWMHTJ-J"
      },
      "execution_count": 17,
      "outputs": []
    },
    {
      "cell_type": "code",
      "source": [
        "print(判断评论是正面还是负面(商品评论2))"
      ],
      "metadata": {
        "colab": {
          "base_uri": "https://localhost:8080/"
        },
        "id": "KBzfGG1yUSCh",
        "outputId": "bfd6b5ed-4f63-42da-f18f-b6c94822ead0"
      },
      "execution_count": 18,
      "outputs": [
        {
          "output_type": "stream",
          "name": "stdout",
          "text": [
            "False\n"
          ]
        }
      ]
    }
  ]
}
