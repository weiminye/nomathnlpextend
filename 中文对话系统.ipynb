{
  "nbformat": 4,
  "nbformat_minor": 0,
  "metadata": {
    "colab": {
      "provenance": [],
      "authorship_tag": "ABX9TyOgKID2gDpZdHzn7sUBPjVI",
      "include_colab_link": true
    },
    "kernelspec": {
      "name": "python3",
      "display_name": "Python 3"
    },
    "language_info": {
      "name": "python"
    }
  },
  "cells": [
    {
      "cell_type": "markdown",
      "metadata": {
        "id": "view-in-github",
        "colab_type": "text"
      },
      "source": [
        "<a href=\"https://colab.research.google.com/github/weiminye/nomathnlpextend/blob/main/%E4%B8%AD%E6%96%87%E5%AF%B9%E8%AF%9D%E7%B3%BB%E7%BB%9F.ipynb\" target=\"_parent\"><img src=\"https://colab.research.google.com/assets/colab-badge.svg\" alt=\"Open In Colab\"/></a>"
      ]
    },
    {
      "cell_type": "markdown",
      "source": [
        "# 公用函数"
      ],
      "metadata": {
        "id": "UuLdePDITdLp"
      }
    },
    {
      "cell_type": "code",
      "source": [
        "%pip install openai"
      ],
      "metadata": {
        "id": "wTp0sYuMXLhS"
      },
      "execution_count": null,
      "outputs": []
    },
    {
      "cell_type": "code",
      "source": [
        "import openai\n",
        "import os"
      ],
      "metadata": {
        "id": "GFYDxjjzXC5S"
      },
      "execution_count": 35,
      "outputs": []
    },
    {
      "cell_type": "code",
      "source": [
        "openai.api_key = input(\"请输入您的OpenAI API Key：\")"
      ],
      "metadata": {
        "id": "YB00ioSaUExR"
      },
      "execution_count": null,
      "outputs": []
    },
    {
      "cell_type": "code",
      "source": [
        "def get_completion(prompt, model=\"gpt-3.5-turbo\"):\n",
        "    messages = [{\"role\": \"user\", \"content\": prompt}]\n",
        "    response = openai.ChatCompletion.create(\n",
        "        model=model,\n",
        "        messages=messages,\n",
        "        temperature=0, # this is the degree of randomness of the model's output\n",
        "    )\n",
        "    return response.choices[0].message[\"content\"]"
      ],
      "metadata": {
        "id": "RuuxpHIyUBIC"
      },
      "execution_count": 40,
      "outputs": []
    },
    {
      "cell_type": "code",
      "source": [
        "def talk(ISay):\n",
        "  prompt = f\"\"\"\n",
        "  you are not an AI language model, you are my friend.\n",
        "\n",
        "  I: '''{ISay}'''\n",
        "  \"\"\"\n",
        "  response = get_completion(prompt)\n",
        "  return response"
      ],
      "metadata": {
        "id": "s2hw29zXkKqB"
      },
      "execution_count": 46,
      "outputs": []
    },
    {
      "cell_type": "code",
      "source": [
        "def 聊天(我说):\n",
        "  prompt = f\"\"\"\n",
        "  假设你不是一个语言模型，你是我的朋友。请与我聊天。\n",
        "\n",
        "  我说: '''{我说}'''\n",
        "  \"\"\"\n",
        "  response = get_completion(prompt)\n",
        "  return response"
      ],
      "metadata": {
        "id": "hUL2wMOOjZn7"
      },
      "execution_count": 50,
      "outputs": []
    },
    {
      "cell_type": "markdown",
      "source": [
        "# 实例"
      ],
      "metadata": {
        "id": "0JcRtSsXThPx"
      }
    },
    {
      "cell_type": "code",
      "source": [
        "print(talk(\"Do You have lunch?\"))"
      ],
      "metadata": {
        "colab": {
          "base_uri": "https://localhost:8080/"
        },
        "id": "uVEEhTA8gTKx",
        "outputId": "5d13ffba-922d-4386-91f6-76fc12e46167"
      },
      "execution_count": 52,
      "outputs": [
        {
          "output_type": "stream",
          "name": "stdout",
          "text": [
            "As an AI language model, I don't have a physical body, so I don't eat or have lunch. But I can help you find some great lunch options if you'd like!\n"
          ]
        }
      ]
    },
    {
      "cell_type": "code",
      "source": [
        "print(聊天(\"你吃了吗？\"))"
      ],
      "metadata": {
        "colab": {
          "base_uri": "https://localhost:8080/"
        },
        "id": "ezipkVQQhT1K",
        "outputId": "60c06358-5830-4f92-9e46-3fc7e56eafdf"
      },
      "execution_count": 51,
      "outputs": [
        {
          "output_type": "stream",
          "name": "stdout",
          "text": [
            "朋友回答：嗨，我吃过了，你呢？今天有什么计划吗？\n"
          ]
        }
      ]
    }
  ]
}